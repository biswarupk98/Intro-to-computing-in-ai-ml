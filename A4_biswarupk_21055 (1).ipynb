{
 "cells": [
  {
   "cell_type": "markdown",
   "metadata": {
    "id": "Z0jZ27oRYMqM"
   },
   "source": [
    "# Question 1 : Logistic Regression\n"
   ]
  },
  {
   "cell_type": "markdown",
   "metadata": {
    "id": "SGfDsfDFYMqN"
   },
   "source": [
    "## Import functions and data"
   ]
  },
  {
   "cell_type": "code",
   "execution_count": 1,
   "metadata": {
    "id": "862oT5OZYMqO"
   },
   "outputs": [],
   "source": [
    "# run this cell to import nltk\n",
    "import numpy as np\n",
    "import pandas as pd\n",
    "import nltk\n",
    "from os import getcwd\n",
    "import re\n",
    "import string"
   ]
  },
  {
   "cell_type": "markdown",
   "metadata": {
    "id": "uyc7xO5PYMqO"
   },
   "source": [
    "### Imported functions\n",
    "\n",
    "Download the data needed for this assignment. Check out the [documentation for the twitter_samples dataset](http://www.nltk.org/howto/twitter.html).\n",
    "\n",
    "* twitter_samples and stopwords: While running on a local computer you need to download them using\n",
    "```Python\n",
    "nltk.download('twitter_samples')\n",
    "nltk.download('stopwords')\n",
    "```\n",
    "\n",
    "#### Import some helper functions that we provided in the utils.py file:\n",
    "* `clean_tweet()`: cleans, tokenizes, removes stopwords, and converts words to stems.\n",
    "* `build_frequency()`: this counts how often a word in the the entire set dataset of tweets was associated with a positive label '1' or a negative label '0', then builds the `frequency_words` dictionary, where each key is a (word,label) tuple, and the value is the count of its frequency within the corpus of tweets.\n",
    "* The `frequency_words` dictionary is the frequency dictionary that's being built. "
   ]
  },
  {
   "cell_type": "code",
   "execution_count": 2,
   "metadata": {
    "colab": {
     "base_uri": "https://localhost:8080/"
    },
    "id": "E3sygxTKYMqP",
    "outputId": "d7fa6d77-57c1-48d1-abfe-54c6a00a10f8"
   },
   "outputs": [
    {
     "name": "stderr",
     "output_type": "stream",
     "text": [
      "[nltk_data] Downloading package twitter_samples to\n",
      "[nltk_data]     C:\\Users\\ratikantlab\\AppData\\Roaming\\nltk_data...\n",
      "[nltk_data]   Package twitter_samples is already up-to-date!\n",
      "[nltk_data] Downloading package stopwords to\n",
      "[nltk_data]     C:\\Users\\ratikantlab\\AppData\\Roaming\\nltk_data...\n",
      "[nltk_data]   Package stopwords is already up-to-date!\n"
     ]
    },
    {
     "data": {
      "text/plain": [
       "True"
      ]
     },
     "execution_count": 2,
     "metadata": {},
     "output_type": "execute_result"
    }
   ],
   "source": [
    "nltk.download('twitter_samples')\n",
    "nltk.download('stopwords')"
   ]
  },
  {
   "cell_type": "code",
   "execution_count": 3,
   "metadata": {
    "id": "lyj3-HutYMqP"
   },
   "outputs": [],
   "source": [
    "# this code allows us to prevent downloading data again while refreshing our workspace\n",
    "filePath = f\"{getcwd()}/../temp/\"\n",
    "nltk.data.path.append(filePath)"
   ]
  },
  {
   "cell_type": "code",
   "execution_count": 4,
   "metadata": {
    "colab": {
     "base_uri": "https://localhost:8080/"
    },
    "id": "ReJSl_kgYMqQ",
    "outputId": "44bfb727-96fd-4c62-daee-560b836f7ffb"
   },
   "outputs": [
    {
     "name": "stdout",
     "output_type": "stream",
     "text": [
      "C:\\Users\\ratikantlab/../temp/\n"
     ]
    }
   ],
   "source": [
    "print(filePath)"
   ]
  },
  {
   "cell_type": "markdown",
   "metadata": {
    "id": "b7L3q347YMqQ"
   },
   "source": [
    "### Data processing\n",
    "* The `twitter_samples` contains subsets of 5,000 positive tweets, 5,000 negative tweets, and the full set of 10,000 tweets.  "
   ]
  },
  {
   "cell_type": "code",
   "execution_count": 5,
   "metadata": {
    "id": "vRgnF6oeYMqQ"
   },
   "outputs": [],
   "source": [
    "\n",
    "from nltk.corpus import twitter_samples \n",
    "from nltk.corpus import stopwords\n",
    "from nltk.stem import PorterStemmer\n",
    "from nltk.tokenize import TweetTokenizer\n",
    "\n"
   ]
  },
  {
   "cell_type": "code",
   "execution_count": 6,
   "metadata": {
    "id": "hPfRZL0UYMqQ"
   },
   "outputs": [],
   "source": [
    "\n",
    "\n",
    "\n",
    "\n",
    "\n",
    "def clean_tweet(tweet):\n",
    "    \n",
    "    # tweets_clean: a list of words containing the processed tweet\n",
    "    stemmer = PorterStemmer()\n",
    "    stopwords_english = stopwords.words('english')\n",
    "    # remove stock market symbols like $GE\n",
    "    tweet = re.sub(r'\\$\\w*', '', tweet)\n",
    "    # remove old style retweet text \"RT\"\n",
    "    tweet = re.sub(r'^RT[\\s]+', '', tweet)\n",
    "    # remove hyperlinks\n",
    "    tweet = re.sub(r'https?:\\/\\/.*[\\r\\n]*', '', tweet)\n",
    "    # remove hashtags\n",
    "    # only removing the hash # sign from the word\n",
    "    tweet = re.sub(r'#', '', tweet)\n",
    "    # tokenize tweets\n",
    "    tokenizer = TweetTokenizer(preserve_case=False, strip_handles=True,\n",
    "                               reduce_len=True)\n",
    "    tweet_tokens = tokenizer.tokenize(tweet)\n",
    "\n",
    "    tweets_clean = []\n",
    "    for word in tweet_tokens:\n",
    "        if (word not in string.punctuation and  \n",
    "                word not in stopwords_english): \n",
    "            stem_word = stemmer.stem(word)  # stemming word\n",
    "            tweets_clean.append(stem_word)\n",
    "\n",
    "    return tweets_clean\n",
    "\n",
    "\n",
    "def build_frequency(tweets, y_np):\n",
    " \n",
    "    # Convert np array to list since zip needs an iterable.\n",
    "    # The squeeze is necessary or the list ends up with one element.\n",
    "    yslist = np.squeeze(y_np).tolist()\n",
    "\n",
    "    # Start with an empty dictionary and populate it by looping over all tweets\n",
    "    # and over all processed words in each tweet.\n",
    "    freqs = {}\n",
    "    for i in range(len(tweets)):\n",
    "        tweet = tweets[i]\n",
    "        y = yslist[i]\n",
    "        for word in clean_tweet(tweet):\n",
    "            pair = (word, y)\n",
    "            if pair in freqs:\n",
    "                freqs[pair] += 1\n",
    "            else:\n",
    "                freqs[pair] = 1\n",
    "\n",
    "    return freqs"
   ]
  },
  {
   "cell_type": "code",
   "execution_count": 7,
   "metadata": {
    "id": "xLCdJXUNYMqR"
   },
   "outputs": [],
   "source": [
    "# select the set of positive and negative tweets\n",
    "positive_tweets = twitter_samples.strings('positive_tweets.json')\n",
    "negative_tweets = twitter_samples.strings('negative_tweets.json')"
   ]
  },
  {
   "cell_type": "code",
   "execution_count": 8,
   "metadata": {
    "colab": {
     "base_uri": "https://localhost:8080/"
    },
    "id": "QdW2m7pvYMqR",
    "outputId": "2ce8e7d3-b510-4d8a-9b93-4c067a493765"
   },
   "outputs": [
    {
     "name": "stdout",
     "output_type": "stream",
     "text": [
      "@Impatientraider On second thought, there’s just not enough time for a DD :) But new shorts entering system. Sheep must be buying.\n",
      "I have a really good m&amp;g idea but I'm never going to meet them :(((\n"
     ]
    }
   ],
   "source": [
    "print(positive_tweets[7])\n",
    "print(negative_tweets[10])"
   ]
  },
  {
   "cell_type": "code",
   "execution_count": 9,
   "metadata": {
    "colab": {
     "base_uri": "https://localhost:8080/"
    },
    "id": "7bG8nfW3DNBV",
    "outputId": "1031dcce-e02d-4a51-c56c-b0aae268516c"
   },
   "outputs": [
    {
     "data": {
      "text/plain": [
       "['followfriday', 'top', 'engag', 'member', 'commun', 'week', ':)']"
      ]
     },
     "execution_count": 9,
     "metadata": {},
     "output_type": "execute_result"
    }
   ],
   "source": [
    "clean_tweet(positive_tweets[0])"
   ]
  },
  {
   "cell_type": "markdown",
   "metadata": {
    "id": "iI006cOLYMqS"
   },
   "source": [
    "### Feature Extraction\n",
    "\n",
    "* Given a list of tweets, extract the features and store them in a matrix. You will extract two features.\n",
    "    * The first feature is the number of positive words in a tweet.\n",
    "    * The second feature is the number of negative words in a tweet. \n",
    "    * For each word, check the `frequency_words` dictionary for the count when that word has a positive '1' label. (Check for the key (word, 1.0)\n",
    "    * Do the same for the count for when the word is associated with the negative label '0'. (Check for the key (word, 0.0).)"
   ]
  },
  {
   "cell_type": "code",
   "execution_count": 10,
   "metadata": {
    "id": "bx_HWFabYMqS"
   },
   "outputs": [],
   "source": [
    "def extract_features(tweet, freqs):\n",
    "    \n",
    "    # clean_tweet tokenizes, stems, and removes stopwords\n",
    "    word_l = clean_tweet(tweet)\n",
    "    \n",
    "    # 3 elements in the form of a 1 x 3 vector\n",
    "    x = np.zeros((1, 3)) \n",
    "    x[0,0] = 1 \n",
    "    \n",
    "    for word in word_l:\n",
    "        \n",
    "        # increment the word count when the  label is positive \n",
    "        x[0,1] = x[0,1] + freqs.get((word, 1.0),0)\n",
    "        # increment the word count when the  label is negative \n",
    "        x[0,2] = x[0,2] + freqs.get((word, 0.0),0)\n",
    "        \n",
    "    return x"
   ]
  },
  {
   "cell_type": "markdown",
   "metadata": {
    "id": "yqwbKYnqYMqS"
   },
   "source": [
    "#### Instructions: Write `sigmoid`\n",
    "Finds the sigmoid of z "
   ]
  },
  {
   "cell_type": "code",
   "execution_count": 11,
   "metadata": {
    "id": "d7UdRNDKYMqS"
   },
   "outputs": [],
   "source": [
    "def sigmoid(z): \n",
    "    \n",
    "    # z is an input which can be a scalar or an array and h is the sigmoid of z \n",
    "    # write the formula for sigmoid here and assign it to h\n",
    "    h = 1 / (1 + np.exp(-z))\n",
    "    return h"
   ]
  },
  {
   "cell_type": "markdown",
   "metadata": {
    "id": "tko2FX1RYMqS"
   },
   "source": [
    "#### Instructions: Write `predict_positivity_score`\n",
    "Predict whether a tweet is positive or negative.\n",
    "\n",
    "* Given a tweet, process it, then extract the features.\n",
    "* Apply the model's learned weights on the features to get the y.\n",
    "* Apply the sigmoid to the y to get the prediction (a value between 0 and 1).\n"
   ]
  },
  {
   "cell_type": "code",
   "execution_count": 12,
   "metadata": {
    "id": "xJ-27hS8YMqT"
   },
   "outputs": [],
   "source": [
    "def predict_positivity_score(tweet, freqs, theta):\n",
    "    \n",
    "    \n",
    "    # extracting features from tweet and the frequencies, this x will multiply with the coefficients which are passed to the \n",
    "    # sigmoid \n",
    "    x = extract_features(tweet,freqs)\n",
    "    \n",
    "    # make the prediction using x and theta\n",
    "    # you need to make calculations for y_pred here. You may need to call sigmoid function here\n",
    "    y_pred = sigmoid(np.matmul(x,theta))\n",
    "    \n",
    "    return int((y_pred >= 0.5)[0][0])"
   ]
  },
  {
   "cell_type": "markdown",
   "metadata": {
    "id": "eF-l_R5-YMqT"
   },
   "source": [
    "Note that the `frequency_words` dictionary should be based on the training data and training labels. Here we have done this for a few number of data points"
   ]
  },
  {
   "cell_type": "markdown",
   "metadata": {
    "id": "mfycpLqNYMqT"
   },
   "source": [
    "\n",
    "The given function `clean_tweet()` makes tokens from words and applies stemming (producing some variant of a root/base word) and removes stop words (commonly used words such as \"the\" ,\"a\" ,\"an\" among other words)"
   ]
  },
  {
   "cell_type": "code",
   "execution_count": 13,
   "metadata": {
    "id": "xqS53Ic6DNBf"
   },
   "outputs": [],
   "source": [
    "from sklearn.metrics import accuracy_score"
   ]
  },
  {
   "cell_type": "code",
   "execution_count": 14,
   "metadata": {
    "id": "_8xTSni1YMqT"
   },
   "outputs": [],
   "source": [
    "#IMPLEMENT gradient descient here. \n",
    "# alpha is the learning rate \n",
    "# x is the data and y is hte label \n",
    "# theta is the initial parameter values \n",
    "# num_iters is the number of iterations you want the algorithm to run\n",
    "def gradientDescent(x, y, theta, alpha, num_iters):\n",
    "    eps= 1e-7\n",
    "    list_of_loss_values = []\n",
    "    list_of_training_accuracy = []\n",
    "    number_of_samples = x.shape[0]\n",
    "    for i in range(num_iters):\n",
    "        a = sigmoid(np.matmul(x,theta))\n",
    "        loss = -np.average(y*np.log(a + eps) + (1-y)*np.log(1-a + eps))\n",
    "        theta = theta - alpha * np.matmul(x.T, (a-y)) / number_of_samples ## Update theta\n",
    "        list_of_loss_values.append(loss)\n",
    "        accuracy = accuracy_score(y, a >= 0.5)\n",
    "        list_of_training_accuracy.append(accuracy)\n",
    "    # list_of_loss_values is the loss for each iteration which , same is the case with training accuracy\n",
    "    J = loss\n",
    "    return J, theta,list_of_loss_values,list_of_training_accuracy"
   ]
  },
  {
   "cell_type": "markdown",
   "metadata": {
    "id": "Cw8LMm3tYMqT"
   },
   "source": [
    "* Train test split: 25% will be in the test set, and 75% in the training set.\n",
    "\n",
    "# Example\n",
    " # Here we show how to call these methods for a few data points. You  may have to use similar calls to the training data after you make the test train split."
   ]
  },
  {
   "cell_type": "code",
   "execution_count": 15,
   "metadata": {
    "colab": {
     "base_uri": "https://localhost:8080/"
    },
    "id": "W-f-AT7qDNBl",
    "outputId": "a9318523-a39a-4216-a170-c967b71e8f51"
   },
   "outputs": [
    {
     "name": "stdout",
     "output_type": "stream",
     "text": [
      "Number of Training Positive Tweets 3750\n",
      "Number of Validation Positive Tweets  1250\n",
      "Number of Training Negative Tweets  3750\n",
      "Number of Validation Negative Tweets  1250\n"
     ]
    }
   ],
   "source": [
    "from sklearn.model_selection import train_test_split\n",
    "train_pos_tweets, test_pos_tweets, train_neg_tweets, test_neg_tweets = train_test_split(positive_tweets, negative_tweets, test_size=.25)\n",
    "\n",
    "train_tweets = train_pos_tweets + train_neg_tweets\n",
    "train_labels = np.append(np.ones((len(train_pos_tweets), 1)), np.zeros((len(train_neg_tweets), 1)), axis=0 )\n",
    "\n",
    "test_tweets = test_pos_tweets + test_neg_tweets\n",
    "test_labels = np.append(np.ones((len(test_pos_tweets), 1)), np.zeros((len(test_neg_tweets), 1)), axis=0 )\n",
    "\n",
    "\n",
    "print(\"Number of Training Positive Tweets\",len(train_pos_tweets))\n",
    "print(\"Number of Validation Positive Tweets \",len(test_pos_tweets))\n",
    "print(\"Number of Training Negative Tweets \",len(train_neg_tweets))\n",
    "print(\"Number of Validation Negative Tweets \",len(test_neg_tweets))\n",
    "\n",
    "frequency_words = build_frequency(train_tweets, train_labels)\n",
    "\n",
    "train_data = []\n",
    "for tweet in train_tweets:\n",
    "    train_data.append(extract_features(tweet, frequency_words))\n",
    "train_data = np.concatenate(train_data)"
   ]
  },
  {
   "cell_type": "code",
   "execution_count": 16,
   "metadata": {
    "id": "-Qxm_dORDNBv"
   },
   "outputs": [],
   "source": [
    "import warnings\n",
    "warnings.filterwarnings('ignore')"
   ]
  },
  {
   "cell_type": "code",
   "execution_count": 17,
   "metadata": {
    "id": "YxVoQKXWYMqT"
   },
   "outputs": [],
   "source": [
    "some_number_of_tweets = positive_tweets[0:10] + negative_tweets[0:10]\n",
    "some_number_of_labels = np.append(np.ones((len(positive_tweets[0:10]), 1)), np.zeros((len(negative_tweets[0:10]), 1)), axis=0)"
   ]
  },
  {
   "cell_type": "code",
   "execution_count": 18,
   "metadata": {
    "id": "6EOTWnxjYMqT"
   },
   "outputs": [],
   "source": [
    "#frequency_words = build_frequency(some_number_of_tweets, some_number_of_labels)"
   ]
  },
  {
   "cell_type": "code",
   "execution_count": 19,
   "metadata": {
    "colab": {
     "base_uri": "https://localhost:8080/"
    },
    "id": "X37PhtIiYMqU",
    "outputId": "0ec5921b-fc47-40f9-8327-045b0e92e3ea"
   },
   "outputs": [
    {
     "name": "stdout",
     "output_type": "stream",
     "text": [
      "[[1.000e+00 3.683e+03 4.880e+02]]\n",
      "[[1. 0. 0.]]\n"
     ]
    }
   ],
   "source": [
    "\n",
    "# Random tests, you can remove these if you want later , but it may help in testing the code \n",
    "print(extract_features(some_number_of_tweets[6], frequency_words))\n",
    "# test 2:\n",
    "# check for when the words are not in the frequency_words dictionary\n",
    "print(extract_features('lalalalala blahblahblah bobobobobbob', frequency_words))\n",
    "\n"
   ]
  },
  {
   "cell_type": "code",
   "execution_count": 20,
   "metadata": {
    "colab": {
     "base_uri": "https://localhost:8080/"
    },
    "id": "-8xUEHddDNCC",
    "outputId": "4199a01b-e3e1-43ef-dec2-7c8964e64cd4"
   },
   "outputs": [
    {
     "data": {
      "text/plain": [
       "array([[1., 0., 0.]])"
      ]
     },
     "execution_count": 20,
     "metadata": {},
     "output_type": "execute_result"
    }
   ],
   "source": [
    "extract_features('terw gdfjeru s gdfgeru', frequency_words)"
   ]
  },
  {
   "cell_type": "code",
   "execution_count": 21,
   "metadata": {
    "id": "opIE_J2bYMqU"
   },
   "outputs": [],
   "source": [
    "# NOTE : call gradient descent to get coefficents and then pass that coefficents into predict function \n",
    "# something like : predict_positivity_score(tweet, frequency_words, coefficents)\n",
    "theta = np.zeros((3, 1))\n",
    "J, theta, list_of_loss_values,list_of_training_accuracy = gradientDescent(x = train_data, y = train_labels, theta = theta, alpha=0.0001, num_iters=10)\n",
    "a = predict_positivity_score(\"@Jacksnider @Johnwick Oops...that's called a #SundayParty :) I'll get gift right now! Thank you, J\", frequency_words, theta)"
   ]
  },
  {
   "cell_type": "markdown",
   "metadata": {
    "id": "XH-tlx-iH9Wg"
   },
   "source": []
  },
  {
   "cell_type": "markdown",
   "metadata": {
    "id": "0hha87quYMqU"
   },
   "source": [
    "## Testing your model\n",
    "After training your model using the training set above, check how your model might perform on real, unseen data, by testing it against the test set.\n",
    "\n",
    "#### Implement `test_logistic` \n",
    "* Given the test data and the weights of your trained model, calculate the accuracy of your logistic regression model. \n",
    "* Use your `predict_positivity_score()` function to make predictions on each tweet in the test set.\n",
    "* If the prediction is >= 0.5, set the model's the predicted label is 1 otherwise it is 0.  \n"
   ]
  },
  {
   "cell_type": "code",
   "execution_count": 22,
   "metadata": {
    "id": "MPPVlhEaYMqU"
   },
   "outputs": [],
   "source": [
    "# Testing your model on the test set\n",
    "def test_logistic(test_x, test_y, freqs, theta):\n",
    "    \n",
    "    #use your trained model to make predictions and then compare those predictions with the \n",
    "    # actual values to come up with an accuracy. and return this accuracy\n",
    "    test_data = []\n",
    "    for tweet in test_x:\n",
    "        test_data.append(predict_positivity_score(tweet, freqs, theta))\n",
    "    y_pred = np.array(test_data)\n",
    "    return accuracy_score(test_y, y_pred)\n"
   ]
  },
  {
   "cell_type": "code",
   "execution_count": 23,
   "metadata": {
    "id": "Hg51avJlDNCJ"
   },
   "outputs": [],
   "source": [
    "test_accuracy = test_logistic(test_x = test_tweets, test_y= test_labels, freqs= frequency_words, theta = theta)"
   ]
  },
  {
   "cell_type": "code",
   "execution_count": 24,
   "metadata": {
    "id": "ebh08KlSYMqU"
   },
   "outputs": [],
   "source": [
    "# Use your model to predict what these result in, whether it is a positive or negative sentiment. If possible, feel free to give\n",
    "# an intuitive explanation (short explanation) of the scores that you obtained\n",
    "\n",
    "my_tweet = ['Let that sink in',\n",
    "            'My psychiatrist told me I was crazy and I said I want a second opion. He said okay, you are ugly too ',\n",
    "            'I’d rather have a drink with Mel Gibson in his hotel tonight than Bill Cosby.',\n",
    "            'Building trust is the key to success in any relationship. Excuses, irregularity, chronically late, etc., are the ingredients to kill the TRUST.',\n",
    "            'We are best friends. Always remember that if you fall i will pick you up. After I finish laughing'\n",
    "           ]\n",
    "\n"
   ]
  },
  {
   "cell_type": "code",
   "execution_count": 25,
   "metadata": {
    "id": "8SGyU3AEYMqa"
   },
   "outputs": [],
   "source": [
    "my_tweet_predict = []\n",
    "for tweet in my_tweet:\n",
    "    my_tweet_predict.append(predict_positivity_score(tweet, freqs=frequency_words, theta = theta))"
   ]
  },
  {
   "cell_type": "code",
   "execution_count": 26,
   "metadata": {
    "id": "ZKgBI9MJYMqa"
   },
   "outputs": [],
   "source": [
    "list(zip(my_tweet, my_tweet_predict))\n",
    "x = range(1, len(list_of_loss_values) + 1)"
   ]
  },
  {
   "cell_type": "code",
   "execution_count": 27,
   "metadata": {
    "colab": {
     "base_uri": "https://localhost:8080/",
     "height": 265
    },
    "id": "bQOo8GwRFXj5",
    "outputId": "1ab48125-94cd-4ac2-979f-bbeede0c9f86"
   },
   "outputs": [
    {
     "data": {
      "image/png": "[encoded data removed]",
      "text/plain": [
       "<Figure size 640x480 with 1 Axes>"
      ]
     },
     "metadata": {},
     "output_type": "display_data"
    }
   ],
   "source": [
    "import matplotlib.pyplot as plt\n",
    "plt.plot(x,list_of_loss_values,x,list_of_training_accuracy)\n",
    "plt.legend(['Training Loss','Training Accuracy'])\n",
    "plt.show()"
   ]
  },
  {
   "cell_type": "code",
   "execution_count": 28,
   "metadata": {
    "colab": {
     "base_uri": "https://localhost:8080/"
    },
    "id": "OUtPJYIpFYOX",
    "outputId": "1b8fe308-0bc6-407d-b3bd-84e0246f9a37"
   },
   "outputs": [
    {
     "name": "stdout",
     "output_type": "stream",
     "text": [
      "Validation accuracy is: 0.9872\n",
      "Training Accuracy is: 0.9881333333333333\n"
     ]
    }
   ],
   "source": [
    "print(\"Validation accuracy is:\", test_accuracy)\n",
    "print(\"Training Accuracy is:\" ,list_of_training_accuracy[-1])"
   ]
  },
  {
   "cell_type": "code",
   "execution_count": null,
   "metadata": {
    "id": "6Aiy43DOIWdg"
   },
   "outputs": [],
   "source": []
  },
  {
   "cell_type": "markdown",
   "metadata": {
    "id": "VKiBCTckIQBT"
   },
   "source": [
    "**Limitation of this model**"
   ]
  },
  {
   "cell_type": "markdown",
   "metadata": {
    "id": "pjLWuoATIR6g"
   },
   "source": []
  },
  {
   "cell_type": "markdown",
   "metadata": {
    "id": "vIQBgoSpKPCh"
   },
   "source": [
    "In this method,we have to store frequency words and new words can occur in outside of the training dataset,hence not in frequency_words.This shows that new word can not be considered during the prediction"
   ]
  },
  {
   "cell_type": "code",
   "execution_count": 29,
   "metadata": {},
   "outputs": [],
   "source": [
    "#Analysis after removing all 5 of the emotions mentioned \n",
    "\n",
    "frequency_words = {m:n for m, n in frequency_words.items() if m[0] not in [':)', ':(', ':-)', ':-(', ':d']}"
   ]
  },
  {
   "cell_type": "code",
   "execution_count": 30,
   "metadata": {},
   "outputs": [
    {
     "data": {
      "image/png": "[encoded data removed]",
      "text/plain": [
       "<Figure size 640x480 with 1 Axes>"
      ]
     },
     "metadata": {},
     "output_type": "display_data"
    }
   ],
   "source": [
    "train_data = []\n",
    "for tweet in train_tweets:\n",
    "    train_data.append(extract_features(tweet, frequency_words))\n",
    "train_data = np.vstack(train_data)\n",
    "\n",
    "\n",
    "theta = np.zeros((3, 1))\n",
    "J, theta, list_of_loss_values,list_of_training_accuracy = gradientDescent(x = train_data, y = train_labels, theta = theta, alpha=0.0001, num_iters=10)\n",
    "a = predict_positivity_score(\"@Jacksnider @Johnwick Oops...that's called a #SundayParty :) I'll get gift right now! Thank you, J\", frequency_words, theta)\n",
    "plt.plot(x,list_of_loss_values,x,list_of_training_accuracy)\n",
    "plt.legend(['Training Loss','Training Accuracy'])\n",
    "plt.show()"
   ]
  },
  {
   "cell_type": "markdown",
   "metadata": {},
   "source": [
    "From the plotting,it is clear that model training is very bad after removing the emotions."
   ]
  }
 ],
 "metadata": {
  "colab": {
   "provenance": []
  },
  "kernelspec": {
   "display_name": "Python 3 (ipykernel)",
   "language": "python",
   "name": "python3"
  },
  "language_info": {
   "codemirror_mode": {
    "name": "ipython",
    "version": 3
   },
   "file_extension": ".py",
   "mimetype": "text/x-python",
   "name": "python",
   "nbconvert_exporter": "python",
   "pygments_lexer": "ipython3",
   "version": "3.9.12"
  },
  "vscode": {
   "interpreter": {
    "hash": "f8d6a95a67efac7a6452e02d5fe411dccb3b7caf87d8fb1f64fe5118072e1212"
   }
  }
 },
 "nbformat": 4,
 "nbformat_minor": 1
}
